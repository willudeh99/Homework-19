{
 "cells": [
  {
   "cell_type": "code",
   "execution_count": 12,
   "metadata": {},
   "outputs": [],
   "source": [
    "import os\n",
    "from web3 import Web3\n",
    "from web3.middleware import geth_poa_middleware\n",
    "from eth_account import Account"
   ]
  },
  {
   "cell_type": "code",
   "execution_count": 18,
   "metadata": {},
   "outputs": [
    {
     "name": "stdout",
     "output_type": "stream",
     "text": [
      "0xAD671002e2Cf32234580F1D37A590C7394790Da8\n"
     ]
    }
   ],
   "source": [
    "w3 = Web3(Web3.HTTPProvider(\"http://127.0.0.1:8545\"))\n",
    "w3.middleware_onion.inject(geth_poa_middleware, layer=0)\n",
    "private_key = \"dc0a68ce6aaa29820cebe8b839eef303558f92fc4217241500bdb7ff034c5f43\"\n",
    "account_1 = Account.from_key(private_key)\n",
    "print(account_1.address)"
   ]
  },
  {
   "cell_type": "code",
   "execution_count": 19,
   "metadata": {},
   "outputs": [
    {
     "data": {
      "text/plain": [
       "100000000000000000000"
      ]
     },
     "execution_count": 19,
     "metadata": {},
     "output_type": "execute_result"
    }
   ],
   "source": [
    "w3.eth.getBalance(account_1.address)"
   ]
  },
  {
   "cell_type": "code",
   "execution_count": 25,
   "metadata": {},
   "outputs": [],
   "source": [
    "# def create_raw_txr(account, recipient, amount):\n",
    "#     gasEstimate = w3.eth.estimateGas(\n",
    "#         {\"from\":account.address, \"to\":recipient, \"value\": amount}\n",
    "#     )\n",
    "#     return {\n",
    "#         \"from\": account.address,\n",
    "#         \"to\": recipient,\n",
    "#         \"value\": amount,\n",
    "#         \"gasPrice\": w3.eth.gasPrice,\n",
    "#         \"gas\": gasEstimate,\n",
    "#         \"nounce\": w3.eth.getTransactionCount(account.address)\n",
    "#     }\n",
    "\n",
    "# def send_txr(account, recipient, amount):\n",
    "#     tx = create_raw_txr(account, recipient, amount)\n",
    "#     signed = account.sign_transaction(tx)\n",
    "#     result = w3.eth.sendRawTransaction(signed.rawTransaction)\n",
    "#     print(result.hex())\n",
    "#     return result.hex()\n",
    "\n",
    "def create_raw_tx(account, recipient, amount):\n",
    "    gasEstimate = w3.eth.estimateGas(\n",
    "        {\"from\": account.address, \"to\": recipient, \"value\": amount}\n",
    "    )\n",
    "    return {\n",
    "        \"from\": account.address,\n",
    "        \"to\": recipient,\n",
    "        \"value\": amount,\n",
    "        \"gasPrice\": w3.eth.gasPrice,\n",
    "        \"gas\": gasEstimate,\n",
    "        \"nonce\": w3.eth.getTransactionCount(account.address),\n",
    "    }\n",
    "\n",
    "\n",
    "def send_tx(account, recipient, amount):\n",
    "    tx = create_raw_tx(account, recipient, amount)\n",
    "    signed_tx = account.sign_transaction(tx)\n",
    "    result = w3.eth.sendRawTransaction(signed_tx.rawTransaction)\n",
    "    print(result.hex())\n",
    "    return result.hex()\n"
   ]
  },
  {
   "cell_type": "code",
   "execution_count": 27,
   "metadata": {},
   "outputs": [
    {
     "name": "stdout",
     "output_type": "stream",
     "text": [
      "0xb49cad9ce63b2d933a5e9765a85aac209096b4ffdeb5ae74c1bf0791370c5748\n"
     ]
    },
    {
     "data": {
      "text/plain": [
       "'0xb49cad9ce63b2d933a5e9765a85aac209096b4ffdeb5ae74c1bf0791370c5748'"
      ]
     },
     "execution_count": 27,
     "metadata": {},
     "output_type": "execute_result"
    }
   ],
   "source": [
    "send_tx(account_1, \"0xe862c71dD2AaE7570337603c8E2112b04F50Ec1B\", 1)"
   ]
  },
  {
   "cell_type": "code",
   "execution_count": 30,
   "metadata": {},
   "outputs": [
    {
     "data": {
      "text/plain": [
       "AttributeDict({'transactionHash': HexBytes('0xb49cad9ce63b2d933a5e9765a85aac209096b4ffdeb5ae74c1bf0791370c5748'),\n",
       " 'transactionIndex': 0,\n",
       " 'blockHash': HexBytes('0xb08e0e05fb3bdeb78cf82f267534f4f94c0c356ee41f3dae5cbe60417da3a79a'),\n",
       " 'blockNumber': 1,\n",
       " 'from': '0xAD671002e2Cf32234580F1D37A590C7394790Da8',\n",
       " 'to': '0xe862c71dD2AaE7570337603c8E2112b04F50Ec1B',\n",
       " 'gasUsed': 21000,\n",
       " 'cumulativeGasUsed': 21000,\n",
       " 'contractAddress': None,\n",
       " 'logs': [],\n",
       " 'status': 1,\n",
       " 'logsBloom': HexBytes('0x00000000000000000000000000000000000000000000000000000000000000000000000000000000000000000000000000000000000000000000000000000000000000000000000000000000000000000000000000000000000000000000000000000000000000000000000000000000000000000000000000000000000000000000000000000000000000000000000000000000000000000000000000000000000000000000000000000000000000000000000000000000000000000000000000000000000000000000000000000000000000000000000000000000000000000000000000000000000000000000000000000000000000000000000000000000')})"
      ]
     },
     "execution_count": 30,
     "metadata": {},
     "output_type": "execute_result"
    }
   ],
   "source": [
    "w3.eth.getTransactionReceipt('0xb49cad9ce63b2d933a5e9765a85aac209096b4ffdeb5ae74c1bf0791370c5748')"
   ]
  },
  {
   "cell_type": "code",
   "execution_count": null,
   "metadata": {},
   "outputs": [],
   "source": []
  }
 ],
 "metadata": {
  "kernelspec": {
   "display_name": "Python 3",
   "language": "python",
   "name": "python3"
  },
  "language_info": {
   "codemirror_mode": {
    "name": "ipython",
    "version": 3
   },
   "file_extension": ".py",
   "mimetype": "text/x-python",
   "name": "python",
   "nbconvert_exporter": "python",
   "pygments_lexer": "ipython3",
   "version": "3.7.7"
  }
 },
 "nbformat": 4,
 "nbformat_minor": 4
}
