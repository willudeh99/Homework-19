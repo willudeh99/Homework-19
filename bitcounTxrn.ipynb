{
 "cells": [
  {
   "cell_type": "code",
   "execution_count": 1,
   "metadata": {},
   "outputs": [],
   "source": [
    "BTC= 'btc'\n",
    "ETH='eth'\n",
    "BTTCTEST = 'btc-test'"
   ]
  },
  {
   "cell_type": "code",
   "execution_count": 2,
   "metadata": {},
   "outputs": [
    {
     "name": "stdout",
     "output_type": "stream",
     "text": [
      "Requirement already satisfied: constants in c:\\users\\willu\\anaconda3\\envs\\ethereum\\lib\\site-packages (0.6.0)\n",
      "Note: you may need to restart the kernel to use updated packages.\n"
     ]
    }
   ],
   "source": [
    "pip install constants"
   ]
  },
  {
   "cell_type": "code",
   "execution_count": 3,
   "metadata": {},
   "outputs": [],
   "source": [
    "import subprocess\n",
    "import json"
   ]
  },
  {
   "cell_type": "code",
   "execution_count": 6,
   "metadata": {},
   "outputs": [
    {
     "name": "stdout",
     "output_type": "stream",
     "text": [
      "[{'path': \"m/44'/0'/0'/0/0\", 'address': '14AeFgZq6vy4Gace6jR8GtM4mwePNpXyjx', 'privkey': 'L4FWr6gTj9Wsrah9tjESEsMJLbc1KVBMJFQc9M26qcCCTAfuQyCq', 'pubkey': '036263d10d59e71cd97a38ecd89fdc60ee705454419bdf6cb561e3cd817efe637d'}, {'path': \"m/44'/0'/0'/0/1\", 'address': '1EqF26wNvio8t4UcaMFDE2nEbMkYgbVP7W', 'privkey': 'KznoLLqvBwUMABjupCPHe4oQJLfpNRhsAUH1ExD4WamjSdjru3QT', 'pubkey': '02b9554bbe68569ff554928430481408d5046e1d17a47bc4d7b096fcfd73dc4c5c'}, {'path': \"m/44'/0'/0'/0/2\", 'address': '15DKXBfyNmVXVSDz6AoPoZ3pGF8Yx4AyMm', 'privkey': 'L4RZMyh4AZbJWtRKAGQw14TCwBQUvgzXMtAd8nUjUB8fsVirc2VL', 'pubkey': '029c889e096b213409e09d0358f98debc6a1a34b4804126702ca3af63eff7cfc0f'}, {'path': \"m/44'/0'/0'/0/3\", 'address': '1DV1nBvYx2phEDrCQPemBFZ1esd8NQ6eT9', 'privkey': 'KxwJFxZoRsTLXMfyqpPYfk6wCBF2h944EfhZnFyLxBNXNoGS2xCd', 'pubkey': '039b3f8b0596148bd081372980b2be5ecd73b289ea8fbddd9baa7f9c802892db45'}, {'path': \"m/44'/0'/0'/0/4\", 'address': '18r7EtR7P8NTsx3PUXptagSeaAZxeqqXW9', 'privkey': 'KykkeoKkaDiSbdqDKJeikQw9vrqqYAz559FKFoynFdxXWPCdsZ4L', 'pubkey': '035dafdaebcc115a15e80f6f08bdd242e0b972d6b0bc39f7de0009a21cef2ac546'}, {'path': \"m/44'/0'/0'/0/5\", 'address': '1E8SMRovJ5vRdE9gfjzDPn7DDHK77uX5wy', 'privkey': 'L1CP59TJDktZbiHGDtfrRCPwoXRcEbXGKREVTN9jENX1oMyc2cJ6', 'pubkey': '020f8be299824e19fabe79a226fb3adb261c19f125f17f17406e515254c3fccb4c'}, {'path': \"m/44'/0'/0'/0/6\", 'address': '1J1Hdm51yCzrqHhest3SZA8DkoDd1H8GPo', 'privkey': 'KwnkyVmss9NWgD7SZsFDHQY3ZiGmA261mXrKvqCbKxzTRKdm7mrc', 'pubkey': '0218ae610c29f21b20e6350a119a0337427c08fa3a5e2a942a453627b7fe178793'}, {'path': \"m/44'/0'/0'/0/7\", 'address': '1Mv2YbVqJFWpHzVTeajKBL7te4fAdwg1VG', 'privkey': 'Kzdo3FGzJjv4U7yo4uTP9UzjgwCVfmuJbyjbkTKL5zHYHp7JyFKX', 'pubkey': '02aff392303a9bb3f8eaea409bca99f5ce7c7c67363a41898b75c239502c15af5d'}, {'path': \"m/44'/0'/0'/0/8\", 'address': '1MnudsWPa6p6f2TeDvNxobEiBqPeqBcNcn', 'privkey': 'L5aVPFM1U7EcYNSoHESgiNvBdMh12pnrWjqFnjViYxjVgtQzRELz', 'pubkey': '02016aabb07ae8525e3a07f262138a8e499e30e54ca3168e65b78aa162fa903e08'}, {'path': \"m/44'/0'/0'/0/9\", 'address': '1NEjjERs9Vp8d9PpD45sy9Qi16nVQzDao4', 'privkey': 'L4rs4FLLRhfWMmBynL5XvJsM7oYRJwKgaHhdyr87rqkE4xCjfKNu', 'pubkey': '024af073692c571ffd599a75f1e1f80222f3428d6b9b485aac30d1b353e6f3b68e'}]\n"
     ]
    }
   ],
   "source": [
    "command = 'php ./derive -g --mnemonic=\"spring cinnamon present quiz fall festival bachelor drip metal select lesson company\" --cols=path,address,privkey,pubkey --format=json'\n",
    "\n",
    "p = subprocess.Popen(command, stdout=subprocess.PIPE, shell=True)\n",
    "(output, err) = p.communicate()\n",
    "p_status =p.wait()\n",
    "\n",
    "keys = json.loads(output)\n",
    "print(keys)"
   ]
  },
  {
   "cell_type": "code",
   "execution_count": 15,
   "metadata": {},
   "outputs": [],
   "source": [
    "from bit import PrivateKeyTestnet\n",
    "from bit.network import NetworkAPI\n",
    "import os\n",
    "from web3 import Web3\n",
    "from eth_account import Account"
   ]
  },
  {
   "cell_type": "code",
   "execution_count": 12,
   "metadata": {},
   "outputs": [],
   "source": [
    "def priv_key_to_account(priv_key):\n",
    "    return PrivateKeyTestnet(priv_key)"
   ]
  },
  {
   "cell_type": "code",
   "execution_count": 9,
   "metadata": {},
   "outputs": [],
   "source": [
    "def create_tx(account, to, amount):\n",
    "    return PrivateKeyTestnet.prepare_transaction(account.address, [(to, amount, \"btc\")])"
   ]
  },
  {
   "cell_type": "code",
   "execution_count": 10,
   "metadata": {},
   "outputs": [],
   "source": [
    "def send_tx(account, to, amount):\n",
    "    raw_tx = create_tx(account, to, amount)\n",
    "    signed = account.sign_transaction(raw_tx)\n",
    "    return NetworkAPI.broadcast_tx_testnet(signed)"
   ]
  },
  {
   "cell_type": "code",
   "execution_count": 20,
   "metadata": {},
   "outputs": [],
   "source": [
    "account = priv_key_to_account('cQZ7RgTq9h5HvSsEcBrPERgJUhXeKjPdFk67KwqcwzrdREDpGN7h')\n",
    "send_tx(account, \"n4HBzEy6FBvWtzqzRoLPBKFt27aJDumq7o\", 0.0001)"
   ]
  },
  {
   "cell_type": "code",
   "execution_count": null,
   "metadata": {},
   "outputs": [],
   "source": []
  }
 ],
 "metadata": {
  "kernelspec": {
   "display_name": "Python 3",
   "language": "python",
   "name": "python3"
  },
  "language_info": {
   "codemirror_mode": {
    "name": "ipython",
    "version": 3
   },
   "file_extension": ".py",
   "mimetype": "text/x-python",
   "name": "python",
   "nbconvert_exporter": "python",
   "pygments_lexer": "ipython3",
   "version": "3.7.7"
  }
 },
 "nbformat": 4,
 "nbformat_minor": 4
}
